{
 "cells": [
  {
   "cell_type": "markdown",
   "source": [
    "# Data Science Tools and Ecosystem \n"
   ],
   "metadata": {
    "collapsed": false
   },
   "id": "c23c0c7c9f0d2785"
  },
  {
   "cell_type": "markdown",
   "source": [
    "In this notebook, Data Science Tools and Ecosystem are summarized.\n"
   ],
   "metadata": {
    "collapsed": false
   },
   "id": "5e7688c7fe8ff044"
  },
  {
   "cell_type": "markdown",
   "source": [
    "**Objectives:**\n",
    "\n",
    "- Learn some of the popular languages that Data Scientist use.\n",
    "- Learn some of the commonly used libraries\n",
    "- Learn Jupyter Notebook Basics such as Markdown formatting. \n",
    "- Gain insights into the basics of working with Jupyter Notebooks.\n",
    "- Learn how to do basic calculations on a Jupyter Notebook."
   ],
   "metadata": {
    "collapsed": false
   },
   "id": "aaa1d9e9239a6227"
  },
  {
   "cell_type": "markdown",
   "source": [
    "Some of the popular languages that Data Scientists use are:\n",
    "1. Python\n",
    "2. SQL\n",
    "3. R\n",
    "4. Julia"
   ],
   "metadata": {
    "collapsed": false
   },
   "id": "2511c2a6ad3314af"
  },
  {
   "cell_type": "markdown",
   "source": [
    "Some of the commonly used libraries used by Data Scientists include:\n",
    "1. sklearn\n",
    "2. TensorFlow\n",
    "3. PyTorch\n",
    "4. Caret"
   ],
   "metadata": {
    "collapsed": false
   },
   "id": "5e9e7f6fabc57875"
  },
  {
   "cell_type": "markdown",
   "source": [
    "| Data Science Tools         |\n",
    "|---------------------------|\n",
    "| Jupyter Notebooks         |\n",
    "| RStudio                   |\n",
    "| VS Code with extensions   |"
   ],
   "metadata": {
    "collapsed": false
   },
   "id": "77b6344d8b9ea8c1"
  },
  {
   "cell_type": "markdown",
   "source": [
    "### Below are a few examples of evaluating arithmetic expressions in Python"
   ],
   "metadata": {
    "collapsed": false
   },
   "id": "f45cae9f2863d9ee"
  },
  {
   "cell_type": "code",
   "execution_count": 7,
   "outputs": [
    {
     "data": {
      "text/plain": "17"
     },
     "execution_count": 7,
     "metadata": {},
     "output_type": "execute_result"
    }
   ],
   "source": [
    "# This a simple arithmetic expression to mutiply then add integers.\n",
    "(3*4)+5"
   ],
   "metadata": {
    "collapsed": false,
    "ExecuteTime": {
     "end_time": "2023-11-18T15:56:26.582080Z",
     "start_time": "2023-11-18T15:56:26.566663Z"
    }
   },
   "id": "8ee4cdbdd436befc"
  },
  {
   "cell_type": "code",
   "execution_count": 8,
   "outputs": [
    {
     "name": "stdout",
     "output_type": "stream",
     "text": [
      "200 minutes are equivalent to 3.33 hours\n"
     ]
    }
   ],
   "source": [
    "# Function this will convert 200 minutes to hours by diving by 60\n",
    "def mins2hours(mins):\n",
    "    hours = mins/60\n",
    "    return print(f\"{mins} minutes are equivalent to {hours:.2f} hours\")\n",
    "\n",
    "mins2hours(200)"
   ],
   "metadata": {
    "collapsed": false,
    "ExecuteTime": {
     "end_time": "2023-11-18T15:56:26.801978Z",
     "start_time": "2023-11-18T15:56:26.779569Z"
    }
   },
   "id": "68fff2332672a4ba"
  },
  {
   "cell_type": "markdown",
   "source": [
    "## Author\n",
    "Sebastián López Bolaños"
   ],
   "metadata": {
    "collapsed": false
   },
   "id": "3fbeee1ead21d412"
  }
 ],
 "metadata": {
  "kernelspec": {
   "display_name": "Python 3",
   "language": "python",
   "name": "python3"
  },
  "language_info": {
   "codemirror_mode": {
    "name": "ipython",
    "version": 2
   },
   "file_extension": ".py",
   "mimetype": "text/x-python",
   "name": "python",
   "nbconvert_exporter": "python",
   "pygments_lexer": "ipython2",
   "version": "2.7.6"
  }
 },
 "nbformat": 4,
 "nbformat_minor": 5
}
